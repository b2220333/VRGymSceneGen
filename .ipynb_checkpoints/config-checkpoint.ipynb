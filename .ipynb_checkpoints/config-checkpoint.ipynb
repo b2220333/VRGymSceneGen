{
 "cells": [
  {
   "cell_type": "code",
   "execution_count": 63,
   "metadata": {},
   "outputs": [],
   "source": [
    "# import nltk\n",
    "# nltk.download(\"wordnet\")\n",
    "from nltk.corpus import wordnet as wn\n",
    "import os\n",
    "import random\n",
    "import trimesh\n",
    "import pyrender\n",
    "shapenetDir = \"C:/Users/jamqd/data/ShapeNetCore.v2\"\n",
    "shapenetOffsets = os.listdir(shapenetDir)"
   ]
  },
  {
   "cell_type": "code",
   "execution_count": 93,
   "metadata": {},
   "outputs": [],
   "source": [
    "def searchShapenet(query):\n",
    "    synsets = wn.synsets(str(query))\n",
    "    if len(synsets) == 0:\n",
    "        print(\"Synset not found.\")\n",
    "        return None\n",
    "    print(synsets)\n",
    "    offsetsToHashes = {}\n",
    "    for n in synsets:\n",
    "        offset = str(n.offset()).zfill(8)\n",
    "        if offset in shapenetOffsets:\n",
    "            meshHashes = os.listdir(os.path.join(shapenetDir, offset))\n",
    "            offsetsToHashes[offset] = meshHashes\n",
    "            \n",
    "    if len(offsetsToHashes) == 0:\n",
    "        print(\"Synset not found in Shapenet\")\n",
    "        return None\n",
    "#     print(offsetsToHashes)\n",
    "    return offsetsToHashes\n",
    "        "
   ]
  },
  {
   "cell_type": "code",
   "execution_count": 95,
   "metadata": {},
   "outputs": [
    {
     "name": "stdout",
     "output_type": "stream",
     "text": [
      "[Synset('tree.n.01'), Synset('tree.n.02'), Synset('tree.n.03'), Synset('corner.v.02'), Synset('tree.v.02'), Synset('tree.v.03'), Synset('tree.v.04')]\n",
      "Synset not found in Shapenet\n"
     ]
    }
   ],
   "source": [
    "searchShapenet(\"tree\")"
   ]
  },
  {
   "cell_type": "code",
   "execution_count": 83,
   "metadata": {},
   "outputs": [],
   "source": [
    "def getShapenetModel(query, renderPreview=False):\n",
    "    offsetsToHashes = searchShapenet(query)\n",
    "    \n",
    "    if offsetsToHashes == None:\n",
    "        print(\"Could not get Shapenet Model\")\n",
    "        return\n",
    "    modelHash = random.choice(meshHashes)\n",
    "    print(\"Using hash\" + str(modelHash))\n",
    "            \n",
    "    synsetPath = os.path.join(shapenetDir, offset)\n",
    "    path = str(os.path.join(synsetPath, modelHash)) + \"/models/model_normalized.obj\"\n",
    "    if renderPreview:        \n",
    "        render(path)\n",
    "    return path    "
   ]
  },
  {
   "cell_type": "code",
   "execution_count": 84,
   "metadata": {},
   "outputs": [],
   "source": [
    "def render(modelPath):\n",
    "    fuze_trimesh = trimesh.load(modelPath)\n",
    "    mesh = pyrender.Mesh.from_trimesh(fuze_trimesh)\n",
    "    scene = pyrender.Scene()\n",
    "    scene.add(mesh)\n",
    "    pyrender.Viewer(scene, use_raymond_lighting=True)"
   ]
  },
  {
   "cell_type": "code",
   "execution_count": null,
   "metadata": {},
   "outputs": [],
   "source": [
    "def render(offset, modelHash):\n",
    "    synsetPath = os.path.join(shapenetDir, offset)\n",
    "    path = str(os.path.join(synsetPath, modelHash)) + \"/models/model_normalized.obj\"\n",
    "    fuze_trimesh = trimesh.load(path)\n",
    "    mesh = pyrender.Mesh.from_trimesh(fuze_trimesh)\n",
    "    scene = pyrender.Scene()\n",
    "    scene.add(mesh)\n",
    "    pyrender.Viewer(scene, use_raymond_lighting=True)"
   ]
  },
  {
   "cell_type": "code",
   "execution_count": 88,
   "metadata": {},
   "outputs": [
    {
     "name": "stdout",
     "output_type": "stream",
     "text": [
      "[Synset('tree.n.01'), Synset('tree.n.02'), Synset('tree.n.03'), Synset('corner.v.02'), Synset('tree.v.02'), Synset('tree.v.03'), Synset('tree.v.04')]\n",
      "Using Synset('tree.n.01')\n",
      "Synset offset: 13104059\n",
      "Synset not found in Shapenet\n",
      "Could not get Shapenet Model\n"
     ]
    }
   ],
   "source": [
    "getShapenetModel(\"tree\", renderPreview=True)"
   ]
  },
  {
   "cell_type": "code",
   "execution_count": 51,
   "metadata": {},
   "outputs": [
    {
     "data": {
      "text/plain": [
       "'\\nEach dictionary / json object represents a room \\n\\n{\\n    bed: {\\n        meshHash: 1aa55867200ea789465e08d496c0420f\\n        movable: true/false\\n        destructable: true/false\\n        transform : {\\n            location : {\\n                x: FLOAT\\n                y: FLOAT\\n                z: FLOAT\\n            }\\n            rotation : {\\n                x: FLOAT\\n                y: FLOAT\\n                z: FLOAT\\n            }\\n            scale : {\\n                x: FLOAT / AUTO\\n                y: FLOAT / AUTO\\n                z: FLOAT / AUTO\\n            }\\n        }\\n       \\n        \\n    }\\n    \\n    ... repeat for non-bed objects\\n}\\n\\n\\n\\n\\n'"
      ]
     },
     "execution_count": 51,
     "metadata": {},
     "output_type": "execute_result"
    }
   ],
   "source": [
    "\"\"\"\n",
    "Each dictionary / json object represents a room \n",
    "\n",
    "{\n",
    "    options : {\n",
    "        # center of room is always at, (0,0,0)\n",
    "        size : {\n",
    "            x: FLOAT,\n",
    "            y: FLOAT,\n",
    "            z: FLOAT\n",
    "        },\n",
    "        \n",
    "        # blocks can be placed in the room to represent walls and other nondestructable / noninteractive geometry\n",
    "        # blocks are always rectangular and defined by six points\n",
    "        blocks : {\n",
    "            block1 : {\n",
    "                p1 : {\n",
    "                    x: FLOAT,\n",
    "                    y: FLOAT,\n",
    "                    z: FLOAT\n",
    "                }\n",
    "                p2 : {\n",
    "                    x: FLOAT,\n",
    "                    y: FLOAT,\n",
    "                    z: FLOAT\n",
    "                }\n",
    "                p3 : {\n",
    "                    x: FLOAT,\n",
    "                    y: FLOAT,\n",
    "                    z: FLOAT\n",
    "                }\n",
    "                p4 : {\n",
    "                    x: FLOAT,\n",
    "                    y: FLOAT,\n",
    "                    z: FLOAT\n",
    "                }\n",
    "                p5 : {\n",
    "                    x: FLOAT,\n",
    "                    y: FLOAT,\n",
    "                    z: FLOAT\n",
    "                }\n",
    "                p6 : {\n",
    "                    x: FLOAT,\n",
    "                    y: FLOAT,\n",
    "                    z: FLOAT\n",
    "                }\n",
    "            }\n",
    "            ... continue for more blocks\n",
    "            \n",
    "        }\n",
    "    }\n",
    "    bed: {\n",
    "        meshHash: 1aa55867200ea789465e08d496c0420f\n",
    "        movable: true/false\n",
    "        destructable: true/false\n",
    "        transform : {\n",
    "            location : {\n",
    "                x: FLOAT\n",
    "                y: FLOAT\n",
    "                z: FLOAT\n",
    "            }\n",
    "            rotation : {\n",
    "                x: FLOAT\n",
    "                y: FLOAT\n",
    "                z: FLOAT\n",
    "            }\n",
    "            scale : {\n",
    "                x: FLOAT / AUTO\n",
    "                y: FLOAT / AUTO\n",
    "                z: FLOAT / AUTO\n",
    "            }\n",
    "        }\n",
    "       \n",
    "        \n",
    "    }\n",
    "    \n",
    "    ... repeat for non-bed objects\n",
    "}\n",
    "\n",
    "\n",
    "\n",
    "\n",
    "\"\"\""
   ]
  },
  {
   "cell_type": "code",
   "execution_count": null,
   "metadata": {},
   "outputs": [],
   "source": []
  }
 ],
 "metadata": {
  "kernelspec": {
   "display_name": "Python [conda env:DL]",
   "language": "python",
   "name": "conda-env-DL-py"
  },
  "language_info": {
   "codemirror_mode": {
    "name": "ipython",
    "version": 3
   },
   "file_extension": ".py",
   "mimetype": "text/x-python",
   "name": "python",
   "nbconvert_exporter": "python",
   "pygments_lexer": "ipython3",
   "version": "3.7.1"
  }
 },
 "nbformat": 4,
 "nbformat_minor": 2
}
